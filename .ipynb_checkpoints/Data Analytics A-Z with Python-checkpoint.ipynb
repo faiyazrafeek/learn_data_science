{
 "cells": [
  {
   "cell_type": "markdown",
   "id": "747746d4",
   "metadata": {},
   "source": [
    "# Section 4: Python Hands-on"
   ]
  },
  {
   "cell_type": "markdown",
   "id": "c1b1563b",
   "metadata": {},
   "source": [
    "## Numbers"
   ]
  },
  {
   "cell_type": "code",
   "execution_count": 1,
   "id": "26e2367b",
   "metadata": {},
   "outputs": [],
   "source": [
    "#integers: 2 or -2\n",
    "#floating point: 2.- or -4.7"
   ]
  },
  {
   "cell_type": "code",
   "execution_count": 2,
   "id": "f13ffb30",
   "metadata": {},
   "outputs": [
    {
     "data": {
      "text/plain": [
       "5"
      ]
     },
     "execution_count": 2,
     "metadata": {},
     "output_type": "execute_result"
    }
   ],
   "source": [
    "#addition\n",
    "2+3"
   ]
  },
  {
   "cell_type": "code",
   "execution_count": 3,
   "id": "cb1740b6",
   "metadata": {},
   "outputs": [
    {
     "data": {
      "text/plain": [
       "2"
      ]
     },
     "execution_count": 3,
     "metadata": {},
     "output_type": "execute_result"
    }
   ],
   "source": [
    "#subs\n",
    "5-3"
   ]
  },
  {
   "cell_type": "code",
   "execution_count": 4,
   "id": "57b83951",
   "metadata": {},
   "outputs": [
    {
     "data": {
      "text/plain": [
       "25"
      ]
     },
     "execution_count": 4,
     "metadata": {},
     "output_type": "execute_result"
    }
   ],
   "source": [
    "#multiply\n",
    "5*5"
   ]
  },
  {
   "cell_type": "code",
   "execution_count": 5,
   "id": "07af47e1",
   "metadata": {},
   "outputs": [
    {
     "data": {
      "text/plain": [
       "9.0"
      ]
     },
     "execution_count": 5,
     "metadata": {},
     "output_type": "execute_result"
    }
   ],
   "source": [
    "#division\n",
    "18/2"
   ]
  },
  {
   "cell_type": "code",
   "execution_count": 7,
   "id": "d7ba1348",
   "metadata": {},
   "outputs": [
    {
     "data": {
      "text/plain": [
       "2"
      ]
     },
     "execution_count": 7,
     "metadata": {},
     "output_type": "execute_result"
    }
   ],
   "source": [
    "#floor division\n",
    "5//2"
   ]
  },
  {
   "cell_type": "code",
   "execution_count": 8,
   "id": "a5bc2f3e",
   "metadata": {},
   "outputs": [
    {
     "data": {
      "text/plain": [
       "1"
      ]
     },
     "execution_count": 8,
     "metadata": {},
     "output_type": "execute_result"
    }
   ],
   "source": [
    "#modular\n",
    "5%2"
   ]
  },
  {
   "cell_type": "code",
   "execution_count": 9,
   "id": "7ca0df8a",
   "metadata": {},
   "outputs": [
    {
     "data": {
      "text/plain": [
       "8"
      ]
     },
     "execution_count": 9,
     "metadata": {},
     "output_type": "execute_result"
    }
   ],
   "source": [
    "#powers\n",
    "2**3"
   ]
  },
  {
   "cell_type": "code",
   "execution_count": 11,
   "id": "c47b2beb",
   "metadata": {},
   "outputs": [
    {
     "data": {
      "text/plain": [
       "2.0"
      ]
     },
     "execution_count": 11,
     "metadata": {},
     "output_type": "execute_result"
    }
   ],
   "source": [
    "#roots\n",
    "4**0.5"
   ]
  },
  {
   "cell_type": "code",
   "execution_count": 13,
   "id": "77428f05",
   "metadata": {},
   "outputs": [
    {
     "data": {
      "text/plain": [
       "24"
      ]
     },
     "execution_count": 13,
     "metadata": {},
     "output_type": "execute_result"
    }
   ],
   "source": [
    "#order of precedence\n",
    "\n",
    "2+5*6-8"
   ]
  },
  {
   "cell_type": "markdown",
   "id": "ef1a744a",
   "metadata": {},
   "source": [
    "## Variables"
   ]
  },
  {
   "cell_type": "code",
   "execution_count": 17,
   "id": "cb82d546",
   "metadata": {},
   "outputs": [
    {
     "data": {
      "text/plain": [
       "5"
      ]
     },
     "execution_count": 17,
     "metadata": {},
     "output_type": "execute_result"
    }
   ],
   "source": [
    "a=5\n",
    "a"
   ]
  },
  {
   "cell_type": "code",
   "execution_count": 20,
   "id": "cc4cec3f",
   "metadata": {},
   "outputs": [
    {
     "data": {
      "text/plain": [
       "18"
      ]
     },
     "execution_count": 20,
     "metadata": {},
     "output_type": "execute_result"
    }
   ],
   "source": [
    "b=3\n",
    "a+b"
   ]
  },
  {
   "cell_type": "code",
   "execution_count": 21,
   "id": "fb0f3a68",
   "metadata": {},
   "outputs": [
    {
     "data": {
      "text/plain": [
       "45"
      ]
     },
     "execution_count": 21,
     "metadata": {},
     "output_type": "execute_result"
    }
   ],
   "source": [
    "a=a*b\n",
    "a"
   ]
  },
  {
   "cell_type": "code",
   "execution_count": 22,
   "id": "13798e08",
   "metadata": {},
   "outputs": [],
   "source": [
    "my_var = 5\n",
    "myVar=4\n",
    "myvar=7"
   ]
  },
  {
   "cell_type": "code",
   "execution_count": 23,
   "id": "c4c7a1ef",
   "metadata": {},
   "outputs": [
    {
     "data": {
      "text/plain": [
       "int"
      ]
     },
     "execution_count": 23,
     "metadata": {},
     "output_type": "execute_result"
    }
   ],
   "source": [
    "#dynamic typing\n",
    "#python no needs the varialbe to be defined\n",
    "type(my_var)"
   ]
  },
  {
   "cell_type": "code",
   "execution_count": 28,
   "id": "e085cd4d",
   "metadata": {},
   "outputs": [],
   "source": [
    "a = \"s\""
   ]
  },
  {
   "cell_type": "code",
   "execution_count": 29,
   "id": "51f2199b",
   "metadata": {},
   "outputs": [
    {
     "data": {
      "text/plain": [
       "str"
      ]
     },
     "execution_count": 29,
     "metadata": {},
     "output_type": "execute_result"
    }
   ],
   "source": [
    "type(a)"
   ]
  },
  {
   "cell_type": "markdown",
   "id": "0997dd53",
   "metadata": {},
   "source": [
    "## Strings in Python"
   ]
  },
  {
   "cell_type": "code",
   "execution_count": 30,
   "id": "5a017558",
   "metadata": {},
   "outputs": [
    {
     "data": {
      "text/plain": [
       "'hello'"
      ]
     },
     "execution_count": 30,
     "metadata": {},
     "output_type": "execute_result"
    }
   ],
   "source": [
    "'hello'"
   ]
  },
  {
   "cell_type": "code",
   "execution_count": 31,
   "id": "e0bf739a",
   "metadata": {},
   "outputs": [
    {
     "data": {
      "text/plain": [
       "'Hello'"
      ]
     },
     "execution_count": 31,
     "metadata": {},
     "output_type": "execute_result"
    }
   ],
   "source": [
    "\"Hello\""
   ]
  },
  {
   "cell_type": "code",
   "execution_count": 32,
   "id": "70d01cd6",
   "metadata": {},
   "outputs": [
    {
     "data": {
      "text/plain": [
       "\"I didn't work\""
      ]
     },
     "execution_count": 32,
     "metadata": {},
     "output_type": "execute_result"
    }
   ],
   "source": [
    "\"I didn't work\""
   ]
  },
  {
   "cell_type": "code",
   "execution_count": 37,
   "id": "77ea702b",
   "metadata": {},
   "outputs": [],
   "source": [
    "a = 'hello world'"
   ]
  },
  {
   "cell_type": "code",
   "execution_count": 38,
   "id": "bdea3deb",
   "metadata": {},
   "outputs": [
    {
     "data": {
      "text/plain": [
       "11"
      ]
     },
     "execution_count": 38,
     "metadata": {},
     "output_type": "execute_result"
    }
   ],
   "source": [
    "len(a)"
   ]
  },
  {
   "cell_type": "code",
   "execution_count": 39,
   "id": "f4c6ec3d",
   "metadata": {},
   "outputs": [
    {
     "data": {
      "text/plain": [
       "'h'"
      ]
     },
     "execution_count": 39,
     "metadata": {},
     "output_type": "execute_result"
    }
   ],
   "source": [
    "#indexing\n",
    "a[0]"
   ]
  },
  {
   "cell_type": "code",
   "execution_count": 44,
   "id": "d3f440e3",
   "metadata": {},
   "outputs": [
    {
     "data": {
      "text/plain": [
       "'d'"
      ]
     },
     "execution_count": 44,
     "metadata": {},
     "output_type": "execute_result"
    }
   ],
   "source": [
    "a[-1]"
   ]
  },
  {
   "cell_type": "code",
   "execution_count": 51,
   "id": "ee319954",
   "metadata": {},
   "outputs": [
    {
     "data": {
      "text/plain": [
       "'ello '"
      ]
     },
     "execution_count": 51,
     "metadata": {},
     "output_type": "execute_result"
    }
   ],
   "source": [
    "#slicing\n",
    "\n",
    "\n",
    "a[1:6]"
   ]
  },
  {
   "cell_type": "code",
   "execution_count": 52,
   "id": "4812fda6",
   "metadata": {},
   "outputs": [
    {
     "data": {
      "text/plain": [
       "' world'"
      ]
     },
     "execution_count": 52,
     "metadata": {},
     "output_type": "execute_result"
    }
   ],
   "source": [
    "a[5:]"
   ]
  },
  {
   "cell_type": "code",
   "execution_count": 54,
   "id": "d0d0f577",
   "metadata": {},
   "outputs": [
    {
     "data": {
      "text/plain": [
       "'hello world'"
      ]
     },
     "execution_count": 54,
     "metadata": {},
     "output_type": "execute_result"
    }
   ],
   "source": [
    "a[0:11]"
   ]
  },
  {
   "cell_type": "code",
   "execution_count": 55,
   "id": "d41f9af9",
   "metadata": {},
   "outputs": [
    {
     "data": {
      "text/plain": [
       "'hlowrd'"
      ]
     },
     "execution_count": 55,
     "metadata": {},
     "output_type": "execute_result"
    }
   ],
   "source": [
    "a[::2]"
   ]
  },
  {
   "cell_type": "code",
   "execution_count": 58,
   "id": "9400962e",
   "metadata": {},
   "outputs": [
    {
     "data": {
      "text/plain": [
       "'el'"
      ]
     },
     "execution_count": 58,
     "metadata": {},
     "output_type": "execute_result"
    }
   ],
   "source": [
    "a[1:4:2]"
   ]
  },
  {
   "cell_type": "markdown",
   "id": "38159380",
   "metadata": {},
   "source": [
    "## String Methods"
   ]
  },
  {
   "cell_type": "code",
   "execution_count": 60,
   "id": "30274e22",
   "metadata": {},
   "outputs": [
    {
     "data": {
      "text/plain": [
       "'HELLO WORLD'"
      ]
     },
     "execution_count": 60,
     "metadata": {},
     "output_type": "execute_result"
    }
   ],
   "source": [
    "a.upper()"
   ]
  },
  {
   "cell_type": "code",
   "execution_count": 65,
   "id": "de03dd68",
   "metadata": {},
   "outputs": [],
   "source": [
    "a = 'hello world in Python'"
   ]
  },
  {
   "cell_type": "code",
   "execution_count": 66,
   "id": "42b35a47",
   "metadata": {},
   "outputs": [
    {
     "data": {
      "text/plain": [
       "['hello', 'world', 'in', 'Python']"
      ]
     },
     "execution_count": 66,
     "metadata": {},
     "output_type": "execute_result"
    }
   ],
   "source": [
    "a.split()"
   ]
  },
  {
   "cell_type": "code",
   "execution_count": 69,
   "id": "eacc3372",
   "metadata": {},
   "outputs": [
    {
     "data": {
      "text/plain": [
       "['hello', 'world', 'in', 'Python']"
      ]
     },
     "execution_count": 69,
     "metadata": {},
     "output_type": "execute_result"
    }
   ],
   "source": [
    "a = 'hello,world,in,Python'\n",
    "\n",
    "a.split(',')"
   ]
  },
  {
   "cell_type": "code",
   "execution_count": 70,
   "id": "9a676a06",
   "metadata": {},
   "outputs": [
    {
     "data": {
      "text/plain": [
       "['hello,world,in,Python']"
      ]
     },
     "execution_count": 70,
     "metadata": {},
     "output_type": "execute_result"
    }
   ],
   "source": [
    "a.split('0')"
   ]
  },
  {
   "cell_type": "code",
   "execution_count": 72,
   "id": "a6f65e16",
   "metadata": {},
   "outputs": [
    {
     "data": {
      "text/plain": [
       "'hello,world,in,Python'"
      ]
     },
     "execution_count": 72,
     "metadata": {},
     "output_type": "execute_result"
    }
   ],
   "source": [
    "#immutability\n",
    "a"
   ]
  },
  {
   "cell_type": "code",
   "execution_count": 73,
   "id": "dd7dc036",
   "metadata": {},
   "outputs": [
    {
     "ename": "TypeError",
     "evalue": "'str' object does not support item assignment",
     "output_type": "error",
     "traceback": [
      "\u001b[1;31m---------------------------------------------------------------------------\u001b[0m",
      "\u001b[1;31mTypeError\u001b[0m                                 Traceback (most recent call last)",
      "\u001b[1;32m~\\AppData\\Local\\Temp\\ipykernel_3472\\3571479716.py\u001b[0m in \u001b[0;36m<module>\u001b[1;34m\u001b[0m\n\u001b[1;32m----> 1\u001b[1;33m \u001b[0ma\u001b[0m\u001b[1;33m[\u001b[0m\u001b[1;36m0\u001b[0m\u001b[1;33m]\u001b[0m \u001b[1;33m=\u001b[0m \u001b[1;34m'p'\u001b[0m\u001b[1;33m\u001b[0m\u001b[1;33m\u001b[0m\u001b[0m\n\u001b[0m",
      "\u001b[1;31mTypeError\u001b[0m: 'str' object does not support item assignment"
     ]
    }
   ],
   "source": [
    "a[0] = 'p'"
   ]
  },
  {
   "cell_type": "code",
   "execution_count": 74,
   "id": "569f9db8",
   "metadata": {},
   "outputs": [
    {
     "data": {
      "text/plain": [
       "'hello,world,in,Python faiyaz'"
      ]
     },
     "execution_count": 74,
     "metadata": {},
     "output_type": "execute_result"
    }
   ],
   "source": [
    "#concatenation\n",
    "a = a + ' faiyaz'\n",
    "\n",
    "a"
   ]
  },
  {
   "cell_type": "code",
   "execution_count": 75,
   "id": "c83036d7",
   "metadata": {},
   "outputs": [
    {
     "data": {
      "text/plain": [
       "'bbbbbbb'"
      ]
     },
     "execution_count": 75,
     "metadata": {},
     "output_type": "execute_result"
    }
   ],
   "source": [
    "a = 'b'\n",
    "\n",
    "a*7"
   ]
  },
  {
   "cell_type": "markdown",
   "id": "96cd5755",
   "metadata": {},
   "source": [
    "## String Formatting"
   ]
  },
  {
   "cell_type": "code",
   "execution_count": 76,
   "id": "3c14a51b",
   "metadata": {},
   "outputs": [],
   "source": [
    "# 1. %s\n",
    "# 2. format()\n",
    "# 3. f-string"
   ]
  },
  {
   "cell_type": "code",
   "execution_count": 88,
   "id": "db941321",
   "metadata": {},
   "outputs": [
    {
     "name": "stdout",
     "output_type": "stream",
     "text": [
      "I love working with Java\n"
     ]
    }
   ],
   "source": [
    "# 1st Method\n",
    "print(\"I love working with %s\" %'Java')"
   ]
  },
  {
   "cell_type": "code",
   "execution_count": 89,
   "id": "716caf02",
   "metadata": {},
   "outputs": [
    {
     "name": "stdout",
     "output_type": "stream",
     "text": [
      "Python is Simple and Easy\n"
     ]
    }
   ],
   "source": [
    "print('Python is %s and %s' %('Simple','Easy'))"
   ]
  },
  {
   "cell_type": "code",
   "execution_count": 90,
   "id": "9debcb73",
   "metadata": {},
   "outputs": [
    {
     "name": "stdout",
     "output_type": "stream",
     "text": [
      "I love Python\n"
     ]
    }
   ],
   "source": [
    "# 2nd Method\n",
    "print('I love {}' . format('Python'))"
   ]
  },
  {
   "cell_type": "code",
   "execution_count": 95,
   "id": "970eec0b",
   "metadata": {},
   "outputs": [
    {
     "name": "stdout",
     "output_type": "stream",
     "text": [
      "I love python\n"
     ]
    }
   ],
   "source": [
    "# 3rd Method\n",
    "a = 'python'\n",
    "\n",
    "print(f\"I love {a}\")"
   ]
  },
  {
   "cell_type": "markdown",
   "id": "ecda3dd6",
   "metadata": {},
   "source": [
    "## Data Types in Python"
   ]
  },
  {
   "cell_type": "code",
   "execution_count": 96,
   "id": "4432bf05",
   "metadata": {},
   "outputs": [],
   "source": [
    "#Lists, tuples and dictionaries"
   ]
  },
  {
   "cell_type": "markdown",
   "id": "3af367b5",
   "metadata": {},
   "source": [
    "### Lists"
   ]
  },
  {
   "cell_type": "code",
   "execution_count": 4,
   "id": "9f0c99ef",
   "metadata": {},
   "outputs": [
    {
     "data": {
      "text/plain": [
       "[1, 3, 5, 7, 9]"
      ]
     },
     "execution_count": 4,
     "metadata": {},
     "output_type": "execute_result"
    }
   ],
   "source": [
    "my_list = [1,3,5,7,9]\n",
    "\n",
    "my_list   "
   ]
  },
  {
   "cell_type": "code",
   "execution_count": 10,
   "id": "7465c839",
   "metadata": {},
   "outputs": [],
   "source": [
    "new_list = [3,'b','789', 'tribal']"
   ]
  },
  {
   "cell_type": "code",
   "execution_count": 11,
   "id": "75fe550b",
   "metadata": {},
   "outputs": [
    {
     "name": "stdout",
     "output_type": "stream",
     "text": [
      "5\n"
     ]
    }
   ],
   "source": [
    "print(len(my_list))"
   ]
  },
  {
   "cell_type": "code",
   "execution_count": 18,
   "id": "6b6aa7de",
   "metadata": {},
   "outputs": [
    {
     "data": {
      "text/plain": [
       "'tribal shoot'"
      ]
     },
     "execution_count": 18,
     "metadata": {},
     "output_type": "execute_result"
    }
   ],
   "source": [
    "#indexing in Lists\n",
    "\n",
    "new_list[3] + ' shoot'"
   ]
  },
  {
   "cell_type": "code",
   "execution_count": 19,
   "id": "456dfab8",
   "metadata": {},
   "outputs": [
    {
     "data": {
      "text/plain": [
       "['789', 'tribal']"
      ]
     },
     "execution_count": 19,
     "metadata": {},
     "output_type": "execute_result"
    }
   ],
   "source": [
    "new_list[2:]"
   ]
  },
  {
   "cell_type": "code",
   "execution_count": 20,
   "id": "8296ccf8",
   "metadata": {},
   "outputs": [
    {
     "data": {
      "text/plain": [
       "[3, 'b', '789', 'tribal', 3, 'b', '789', 'tribal']"
      ]
     },
     "execution_count": 20,
     "metadata": {},
     "output_type": "execute_result"
    }
   ],
   "source": [
    "new_list * 2"
   ]
  },
  {
   "cell_type": "code",
   "execution_count": 22,
   "id": "c8827c04",
   "metadata": {},
   "outputs": [
    {
     "data": {
      "text/plain": [
       "[3, 'b', '789', 'tribal', 30]"
      ]
     },
     "execution_count": 22,
     "metadata": {},
     "output_type": "execute_result"
    }
   ],
   "source": [
    "a = new_list + [30]\n",
    "\n",
    "a"
   ]
  },
  {
   "cell_type": "code",
   "execution_count": 25,
   "id": "01dc2ae9",
   "metadata": {},
   "outputs": [
    {
     "data": {
      "text/plain": [
       "[3, 'b', '789', 'tribal', 30, 50, 'Faaz', 50, 'Faaz']"
      ]
     },
     "execution_count": 25,
     "metadata": {},
     "output_type": "execute_result"
    }
   ],
   "source": [
    "#list methods\n",
    "\n",
    "#add an element at last\n",
    "\n",
    "a.append(50)\n",
    "a.append('Faaz')\n",
    "\n",
    "a"
   ]
  },
  {
   "cell_type": "code",
   "execution_count": 26,
   "id": "32ae4841",
   "metadata": {},
   "outputs": [
    {
     "data": {
      "text/plain": [
       "'Faaz'"
      ]
     },
     "execution_count": 26,
     "metadata": {},
     "output_type": "execute_result"
    }
   ],
   "source": [
    "#remove last ellement\n",
    "\n",
    "rm = a.pop()\n",
    "\n",
    "rm"
   ]
  },
  {
   "cell_type": "code",
   "execution_count": 27,
   "id": "3d5b1806",
   "metadata": {},
   "outputs": [
    {
     "data": {
      "text/plain": [
       "[50, 'Faaz', 50, 30, 'tribal', '789', 'b', 3]"
      ]
     },
     "execution_count": 27,
     "metadata": {},
     "output_type": "execute_result"
    }
   ],
   "source": [
    "a.reverse()\n",
    "\n",
    "a"
   ]
  },
  {
   "cell_type": "code",
   "execution_count": 35,
   "id": "a7349642",
   "metadata": {},
   "outputs": [
    {
     "data": {
      "text/plain": [
       "[12, 50, 95, 152]"
      ]
     },
     "execution_count": 35,
     "metadata": {},
     "output_type": "execute_result"
    }
   ],
   "source": [
    "x = [50,12,95,152]\n",
    "\n",
    "\n",
    "x.sort()\n",
    "\n",
    "x"
   ]
  },
  {
   "cell_type": "code",
   "execution_count": 36,
   "id": "675a859a",
   "metadata": {},
   "outputs": [
    {
     "data": {
      "text/plain": [
       "[152, 95, 50, 12]"
      ]
     },
     "execution_count": 36,
     "metadata": {},
     "output_type": "execute_result"
    }
   ],
   "source": [
    "x.reverse()\n",
    "\n",
    "x"
   ]
  },
  {
   "cell_type": "code",
   "execution_count": 38,
   "id": "c456b774",
   "metadata": {},
   "outputs": [
    {
     "data": {
      "text/plain": [
       "[[1, 3, 5, 7], [2, 4, 6, 8]]"
      ]
     },
     "execution_count": 38,
     "metadata": {},
     "output_type": "execute_result"
    }
   ],
   "source": [
    "#Nested List\n",
    "\n",
    "a = [1,3,5,7]\n",
    "b = [2,4,6,8]\n",
    "\n",
    "nums = [a, b]\n",
    "\n",
    "nums"
   ]
  },
  {
   "cell_type": "markdown",
   "id": "c5debc3d",
   "metadata": {},
   "source": [
    "### Tuples"
   ]
  },
  {
   "cell_type": "code",
   "execution_count": 39,
   "id": "71eaaa8c",
   "metadata": {},
   "outputs": [
    {
     "data": {
      "text/plain": [
       "(1, 3, 5, 7)"
      ]
     },
     "execution_count": 39,
     "metadata": {},
     "output_type": "execute_result"
    }
   ],
   "source": [
    "tt = (1,3,5,7)\n",
    "\n",
    "tt"
   ]
  },
  {
   "cell_type": "code",
   "execution_count": 40,
   "id": "0a0acbad",
   "metadata": {},
   "outputs": [
    {
     "data": {
      "text/plain": [
       "tuple"
      ]
     },
     "execution_count": 40,
     "metadata": {},
     "output_type": "execute_result"
    }
   ],
   "source": [
    "type(tt)"
   ]
  },
  {
   "cell_type": "code",
   "execution_count": 41,
   "id": "738312ad",
   "metadata": {},
   "outputs": [
    {
     "data": {
      "text/plain": [
       "(2, 4, 'a', 'b')"
      ]
     },
     "execution_count": 41,
     "metadata": {},
     "output_type": "execute_result"
    }
   ],
   "source": [
    "t = (2,4,'a','b')\n",
    "\n",
    "t"
   ]
  },
  {
   "cell_type": "code",
   "execution_count": 42,
   "id": "79903694",
   "metadata": {},
   "outputs": [
    {
     "data": {
      "text/plain": [
       "5"
      ]
     },
     "execution_count": 42,
     "metadata": {},
     "output_type": "execute_result"
    }
   ],
   "source": [
    "# Indexing and Slicing\n",
    "\n",
    "\n",
    "tt[2]"
   ]
  },
  {
   "cell_type": "code",
   "execution_count": 43,
   "id": "6dfdb660",
   "metadata": {},
   "outputs": [
    {
     "data": {
      "text/plain": [
       "('a', 'b')"
      ]
     },
     "execution_count": 43,
     "metadata": {},
     "output_type": "execute_result"
    }
   ],
   "source": [
    "t[2:]"
   ]
  },
  {
   "cell_type": "code",
   "execution_count": 44,
   "id": "15028a4d",
   "metadata": {},
   "outputs": [
    {
     "data": {
      "text/plain": [
       "3"
      ]
     },
     "execution_count": 44,
     "metadata": {},
     "output_type": "execute_result"
    }
   ],
   "source": [
    "t.index('b')"
   ]
  },
  {
   "cell_type": "code",
   "execution_count": 46,
   "id": "00c96ce7",
   "metadata": {},
   "outputs": [
    {
     "data": {
      "text/plain": [
       "1"
      ]
     },
     "execution_count": 46,
     "metadata": {},
     "output_type": "execute_result"
    }
   ],
   "source": [
    "t.count('a')"
   ]
  },
  {
   "cell_type": "code",
   "execution_count": 47,
   "id": "4d2bee41",
   "metadata": {},
   "outputs": [],
   "source": [
    "# tuples aare immutable: cannot append or pop or update"
   ]
  },
  {
   "cell_type": "markdown",
   "id": "4fcab845",
   "metadata": {},
   "source": [
    "### Dictionaries"
   ]
  },
  {
   "cell_type": "code",
   "execution_count": 52,
   "id": "10034ca3",
   "metadata": {},
   "outputs": [
    {
     "data": {
      "text/plain": [
       "{'key1': 1, 'key2': 'faiyaz'}"
      ]
     },
     "execution_count": 52,
     "metadata": {},
     "output_type": "execute_result"
    }
   ],
   "source": [
    "dict = {'key1': 1, 'key2': 'faiyaz'}\n",
    "\n",
    "dict"
   ]
  },
  {
   "cell_type": "code",
   "execution_count": 53,
   "id": "b5387ae0",
   "metadata": {},
   "outputs": [
    {
     "data": {
      "text/plain": [
       "1"
      ]
     },
     "execution_count": 53,
     "metadata": {},
     "output_type": "execute_result"
    }
   ],
   "source": [
    "dict['key1']"
   ]
  },
  {
   "cell_type": "code",
   "execution_count": 54,
   "id": "a74f305f",
   "metadata": {},
   "outputs": [
    {
     "data": {
      "text/plain": [
       "'f'"
      ]
     },
     "execution_count": 54,
     "metadata": {},
     "output_type": "execute_result"
    }
   ],
   "source": [
    "dict['key2'][0]"
   ]
  },
  {
   "cell_type": "code",
   "execution_count": 58,
   "id": "13a3d432",
   "metadata": {},
   "outputs": [
    {
     "data": {
      "text/plain": [
       "{'k1': 4, 'k2': [6, 7, 8, 9], 'key3': 9}"
      ]
     },
     "execution_count": 58,
     "metadata": {},
     "output_type": "execute_result"
    }
   ],
   "source": [
    "dict2 = {'k1': 4, 'k2':[6,7,8,9], 'key3': 9}\n",
    "\n",
    "dict2"
   ]
  },
  {
   "cell_type": "code",
   "execution_count": 60,
   "id": "fe32d3e5",
   "metadata": {},
   "outputs": [
    {
     "data": {
      "text/plain": [
       "7"
      ]
     },
     "execution_count": 60,
     "metadata": {},
     "output_type": "execute_result"
    }
   ],
   "source": [
    "dict2['k2'][1]"
   ]
  },
  {
   "cell_type": "code",
   "execution_count": 61,
   "id": "3fe2d7c9",
   "metadata": {},
   "outputs": [
    {
     "data": {
      "text/plain": [
       "2"
      ]
     },
     "execution_count": 61,
     "metadata": {},
     "output_type": "execute_result"
    }
   ],
   "source": [
    "#Dictionary Methods\n",
    "\n",
    "dict2['k1']-2"
   ]
  },
  {
   "cell_type": "code",
   "execution_count": 62,
   "id": "0eb7d58f",
   "metadata": {},
   "outputs": [
    {
     "data": {
      "text/plain": [
       "dict"
      ]
     },
     "execution_count": 62,
     "metadata": {},
     "output_type": "execute_result"
    }
   ],
   "source": [
    "type(dict2)"
   ]
  },
  {
   "cell_type": "code",
   "execution_count": 63,
   "id": "ad8cb8fa",
   "metadata": {},
   "outputs": [
    {
     "data": {
      "text/plain": [
       "dict_keys(['k1', 'k2', 'key3'])"
      ]
     },
     "execution_count": 63,
     "metadata": {},
     "output_type": "execute_result"
    }
   ],
   "source": [
    "dict2.keys()"
   ]
  },
  {
   "cell_type": "code",
   "execution_count": 64,
   "id": "9f1e9a32",
   "metadata": {},
   "outputs": [
    {
     "data": {
      "text/plain": [
       "dict_values([4, [6, 7, 8, 9], 9])"
      ]
     },
     "execution_count": 64,
     "metadata": {},
     "output_type": "execute_result"
    }
   ],
   "source": [
    "dict2.values()"
   ]
  },
  {
   "cell_type": "markdown",
   "id": "209db708",
   "metadata": {},
   "source": [
    "### Sets and Booleans"
   ]
  },
  {
   "cell_type": "code",
   "execution_count": 70,
   "id": "5368b4e4",
   "metadata": {},
   "outputs": [],
   "source": [
    "#Sets"
   ]
  },
  {
   "cell_type": "code",
   "execution_count": 65,
   "id": "4aca08a4",
   "metadata": {},
   "outputs": [],
   "source": [
    "x = set()"
   ]
  },
  {
   "cell_type": "code",
   "execution_count": 67,
   "id": "b3375a14",
   "metadata": {},
   "outputs": [
    {
     "data": {
      "text/plain": [
       "{5, 7}"
      ]
     },
     "execution_count": 67,
     "metadata": {},
     "output_type": "execute_result"
    }
   ],
   "source": [
    "x.add(5)\n",
    "x.add(7)\n",
    "\n",
    "x"
   ]
  },
  {
   "cell_type": "code",
   "execution_count": 68,
   "id": "dba8a854",
   "metadata": {},
   "outputs": [
    {
     "data": {
      "text/plain": [
       "{5, 7}"
      ]
     },
     "execution_count": 68,
     "metadata": {},
     "output_type": "execute_result"
    }
   ],
   "source": [
    "#sets are unordered collection of unique elements\n",
    "\n",
    "x.add(7)\n",
    "\n",
    "x"
   ]
  },
  {
   "cell_type": "code",
   "execution_count": 69,
   "id": "650affd7",
   "metadata": {},
   "outputs": [
    {
     "data": {
      "text/plain": [
       "{1, 2, 3, 4, 5}"
      ]
     },
     "execution_count": 69,
     "metadata": {},
     "output_type": "execute_result"
    }
   ],
   "source": [
    "list1 = [1,2,2,3,4,4,5]\n",
    "\n",
    "set(list1)"
   ]
  },
  {
   "cell_type": "code",
   "execution_count": 71,
   "id": "e0334a3b",
   "metadata": {},
   "outputs": [],
   "source": [
    "#Booleans"
   ]
  },
  {
   "cell_type": "code",
   "execution_count": 72,
   "id": "2b07a308",
   "metadata": {},
   "outputs": [
    {
     "data": {
      "text/plain": [
       "False"
      ]
     },
     "execution_count": 72,
     "metadata": {},
     "output_type": "execute_result"
    }
   ],
   "source": [
    "7>88"
   ]
  },
  {
   "cell_type": "code",
   "execution_count": 74,
   "id": "3d37afad",
   "metadata": {},
   "outputs": [],
   "source": [
    "b=None"
   ]
  },
  {
   "cell_type": "code",
   "execution_count": 75,
   "id": "3e489e45",
   "metadata": {},
   "outputs": [
    {
     "name": "stdout",
     "output_type": "stream",
     "text": [
      "None\n"
     ]
    }
   ],
   "source": [
    "print(b)"
   ]
  },
  {
   "cell_type": "markdown",
   "id": "7bee5152",
   "metadata": {},
   "source": [
    "## Statements"
   ]
  },
  {
   "cell_type": "code",
   "execution_count": 77,
   "id": "d4ce6a98",
   "metadata": {},
   "outputs": [],
   "source": [
    "#if, else, elif\n"
   ]
  },
  {
   "cell_type": "code",
   "execution_count": 78,
   "id": "ab36046b",
   "metadata": {},
   "outputs": [
    {
     "name": "stdout",
     "output_type": "stream",
     "text": [
      "true\n"
     ]
    }
   ],
   "source": [
    "#if\n",
    "\n",
    "if 5 > 3:\n",
    "    print('true')"
   ]
  },
  {
   "cell_type": "code",
   "execution_count": 80,
   "id": "e7b69fe8",
   "metadata": {},
   "outputs": [
    {
     "name": "stdout",
     "output_type": "stream",
     "text": [
      "false\n"
     ]
    }
   ],
   "source": [
    "#if\n",
    "\n",
    "if 5 < 3:\n",
    "    print('true')\n",
    "else:\n",
    "    print('false')"
   ]
  },
  {
   "cell_type": "code",
   "execution_count": 82,
   "id": "1e480ed5",
   "metadata": {},
   "outputs": [
    {
     "name": "stdout",
     "output_type": "stream",
     "text": [
      "c\n"
     ]
    }
   ],
   "source": [
    "a=1\n",
    "b=2\n",
    "c=3\n",
    "\n",
    "if a>b:\n",
    "    print('a')\n",
    "elif b>c:\n",
    "    print('b')\n",
    "else:\n",
    "    print('c')"
   ]
  },
  {
   "cell_type": "markdown",
   "id": "3e6ddf31",
   "metadata": {},
   "source": [
    "## For Loop"
   ]
  },
  {
   "cell_type": "code",
   "execution_count": 83,
   "id": "77710677",
   "metadata": {},
   "outputs": [
    {
     "name": "stdout",
     "output_type": "stream",
     "text": [
      "1\n",
      "2\n",
      "3\n",
      "4\n",
      "5\n",
      "6\n",
      "7\n",
      "8\n"
     ]
    }
   ],
   "source": [
    "#for loops\n",
    "\n",
    "li = [1,2,3,4,5,6,7,8]\n",
    "\n",
    "for i in li:\n",
    "    print(i)"
   ]
  },
  {
   "cell_type": "code",
   "execution_count": 88,
   "id": "72125347",
   "metadata": {},
   "outputs": [
    {
     "name": "stdout",
     "output_type": "stream",
     "text": [
      "2\n",
      "4\n",
      "6\n",
      "8\n"
     ]
    }
   ],
   "source": [
    "for i in li:\n",
    "    if i%2==0:\n",
    "        print(i)"
   ]
  },
  {
   "cell_type": "markdown",
   "id": "c82f23cb",
   "metadata": {},
   "source": [
    "## While Loops"
   ]
  },
  {
   "cell_type": "code",
   "execution_count": 90,
   "id": "7b28e97f",
   "metadata": {},
   "outputs": [
    {
     "name": "stdout",
     "output_type": "stream",
     "text": [
      "0\n",
      "1\n",
      "2\n",
      "3\n",
      "4\n"
     ]
    }
   ],
   "source": [
    "#while loops\n",
    "\n",
    "x=0\n",
    "\n",
    "while x < 5:\n",
    "    print(x)\n",
    "    x+=1"
   ]
  },
  {
   "cell_type": "markdown",
   "id": "679b7e6f",
   "metadata": {},
   "source": [
    "## Functions"
   ]
  },
  {
   "cell_type": "code",
   "execution_count": 91,
   "id": "9bcc5b13",
   "metadata": {},
   "outputs": [],
   "source": [
    "#function definition\n",
    "\n",
    "def say_hello():\n",
    "    print('Hello 2023')"
   ]
  },
  {
   "cell_type": "code",
   "execution_count": 94,
   "id": "a0819964",
   "metadata": {},
   "outputs": [
    {
     "name": "stdout",
     "output_type": "stream",
     "text": [
      "Hello 2023\n",
      "Hello 2023\n",
      "Hello 2023\n"
     ]
    }
   ],
   "source": [
    "#function call\n",
    "\n",
    "say_hello()\n",
    "say_hello()\n",
    "say_hello()"
   ]
  },
  {
   "cell_type": "code",
   "execution_count": 96,
   "id": "becf1243",
   "metadata": {},
   "outputs": [],
   "source": [
    "def greet(name):\n",
    "    print(f'Hello {name}')"
   ]
  },
  {
   "cell_type": "code",
   "execution_count": 97,
   "id": "62f76789",
   "metadata": {},
   "outputs": [
    {
     "name": "stdout",
     "output_type": "stream",
     "text": [
      "Hello Faiyaz\n"
     ]
    }
   ],
   "source": [
    "greet('Faiyaz')"
   ]
  },
  {
   "cell_type": "code",
   "execution_count": 100,
   "id": "3924114c",
   "metadata": {},
   "outputs": [],
   "source": [
    "def add_num(a,b):\n",
    "    return a+b;"
   ]
  },
  {
   "cell_type": "code",
   "execution_count": 101,
   "id": "49a467a4",
   "metadata": {},
   "outputs": [
    {
     "data": {
      "text/plain": [
       "9"
      ]
     },
     "execution_count": 101,
     "metadata": {},
     "output_type": "execute_result"
    }
   ],
   "source": [
    "add_num(4,5)"
   ]
  },
  {
   "cell_type": "markdown",
   "id": "2ace47f6",
   "metadata": {},
   "source": [
    "## Decorators"
   ]
  },
  {
   "cell_type": "code",
   "execution_count": 102,
   "id": "1a966e74",
   "metadata": {},
   "outputs": [],
   "source": [
    "def hello(name='faiyaz'):\n",
    "    return f'hello {name}'    "
   ]
  },
  {
   "cell_type": "code",
   "execution_count": 105,
   "id": "739f0d34",
   "metadata": {},
   "outputs": [
    {
     "data": {
      "text/plain": [
       "'hello faiyaz'"
      ]
     },
     "execution_count": 105,
     "metadata": {},
     "output_type": "execute_result"
    }
   ],
   "source": [
    "hello('Suh')\n"
   ]
  },
  {
   "cell_type": "code",
   "execution_count": 106,
   "id": "78b828d1",
   "metadata": {},
   "outputs": [
    {
     "data": {
      "text/plain": [
       "'hello faiyaz'"
      ]
     },
     "execution_count": 106,
     "metadata": {},
     "output_type": "execute_result"
    }
   ],
   "source": [
    "hello()"
   ]
  },
  {
   "cell_type": "code",
   "execution_count": 107,
   "id": "02791e41",
   "metadata": {},
   "outputs": [
    {
     "data": {
      "text/plain": [
       "<function __main__.hello(name='faiyaz')>"
      ]
     },
     "execution_count": 107,
     "metadata": {},
     "output_type": "execute_result"
    }
   ],
   "source": [
    "#**********\n",
    "greet = hello\n",
    "\n",
    "greet"
   ]
  },
  {
   "cell_type": "code",
   "execution_count": 108,
   "id": "2510d45b",
   "metadata": {},
   "outputs": [
    {
     "data": {
      "text/plain": [
       "'hello faiyaz'"
      ]
     },
     "execution_count": 108,
     "metadata": {},
     "output_type": "execute_result"
    }
   ],
   "source": [
    "greet()"
   ]
  },
  {
   "cell_type": "markdown",
   "id": "3cfec47b",
   "metadata": {},
   "source": [
    "## Generators"
   ]
  },
  {
   "cell_type": "code",
   "execution_count": 109,
   "id": "b00acd47",
   "metadata": {},
   "outputs": [],
   "source": [
    "def cubes(n):\n",
    "    for i in range(n):\n",
    "        yield i**3"
   ]
  },
  {
   "cell_type": "code",
   "execution_count": 110,
   "id": "5146ab42",
   "metadata": {
    "scrolled": true
   },
   "outputs": [
    {
     "name": "stdout",
     "output_type": "stream",
     "text": [
      "0\n",
      "1\n",
      "8\n",
      "27\n",
      "64\n"
     ]
    }
   ],
   "source": [
    "for zx in cubes(5):\n",
    "    print(zx)"
   ]
  },
  {
   "cell_type": "markdown",
   "id": "ca3926f2",
   "metadata": {},
   "source": [
    "## OOP in Python"
   ]
  },
  {
   "cell_type": "markdown",
   "id": "b56caaaf",
   "metadata": {},
   "source": [
    "### Objects and Classes"
   ]
  },
  {
   "cell_type": "markdown",
   "id": "d8135e56",
   "metadata": {},
   "source": [
    "Everyting is Object in Python"
   ]
  },
  {
   "cell_type": "code",
   "execution_count": 111,
   "id": "699d24ce",
   "metadata": {},
   "outputs": [
    {
     "name": "stdout",
     "output_type": "stream",
     "text": [
      "hello\n"
     ]
    }
   ],
   "source": [
    "#Class\n",
    "\n",
    "class Demo:\n",
    "    print('hello')"
   ]
  },
  {
   "cell_type": "code",
   "execution_count": 112,
   "id": "4070d16c",
   "metadata": {},
   "outputs": [],
   "source": [
    "x = Demo()"
   ]
  },
  {
   "cell_type": "code",
   "execution_count": 113,
   "id": "afadd2af",
   "metadata": {},
   "outputs": [
    {
     "data": {
      "text/plain": [
       "<__main__.Demo at 0x21b6cc87280>"
      ]
     },
     "execution_count": 113,
     "metadata": {},
     "output_type": "execute_result"
    }
   ],
   "source": [
    "x"
   ]
  },
  {
   "cell_type": "code",
   "execution_count": 116,
   "id": "8c7142be",
   "metadata": {},
   "outputs": [],
   "source": [
    "class Student:\n",
    "    def __init__(self, stno, name):\n",
    "        self.stno = stno\n",
    "        self.name = name"
   ]
  },
  {
   "cell_type": "code",
   "execution_count": 120,
   "id": "9d530bdb",
   "metadata": {},
   "outputs": [],
   "source": [
    "st1 = Student(1, 'Faiyaz')\n",
    "st2 = Student(2, 'Ammi')"
   ]
  },
  {
   "cell_type": "code",
   "execution_count": 123,
   "id": "aea212c6",
   "metadata": {},
   "outputs": [
    {
     "data": {
      "text/plain": [
       "'1 : Ammi'"
      ]
     },
     "execution_count": 123,
     "metadata": {},
     "output_type": "execute_result"
    }
   ],
   "source": [
    "str(st1.stno) + ' : '+ st2.name"
   ]
  },
  {
   "cell_type": "code",
   "execution_count": 125,
   "id": "4f74676c",
   "metadata": {},
   "outputs": [],
   "source": [
    "#methods\n",
    "\n",
    "class Circle:\n",
    "    pi = 3.14\n",
    "    \n",
    "    def __init__(self, rad=1):\n",
    "        self.rad = rad\n",
    "        self.area = rad * rad * Circle.pi\n",
    "        \n",
    "        \n",
    "    def set_rad(self, new_rad):\n",
    "        self.rad = new_rad\n",
    "        self.aread = new_rad*new_rad*self.pi\n",
    "        \n",
    "    \n",
    "    def get_circum(self):\n",
    "        return self.rad * self.pi * 2"
   ]
  },
  {
   "cell_type": "code",
   "execution_count": 135,
   "id": "3fcd3891",
   "metadata": {},
   "outputs": [
    {
     "name": "stdout",
     "output_type": "stream",
     "text": [
      "Radius: 2\n",
      "Area: 12.56\n",
      "Circum: 12.56\n"
     ]
    }
   ],
   "source": [
    "c1 = Circle(2)\n",
    "\n",
    "\n",
    "print(f'Radius: {c1.rad}')\n",
    "print(f'Area: {c1.area}')\n",
    "print(f'Circum: {c1.get_circum()}')\n"
   ]
  },
  {
   "cell_type": "markdown",
   "id": "fe6534cf",
   "metadata": {},
   "source": [
    "## Inheritence"
   ]
  },
  {
   "cell_type": "code",
   "execution_count": 136,
   "id": "5acb8650",
   "metadata": {},
   "outputs": [],
   "source": [
    "class Animal:\n",
    "    def __init__(self):\n",
    "        print(\"Animal was created\")\n",
    "        \n",
    "    def my_self(self):\n",
    "        print('Animal');\n",
    "        \n",
    "    def eat(self):\n",
    "        print('Eating');"
   ]
  },
  {
   "cell_type": "code",
   "execution_count": 151,
   "id": "5cb563cc",
   "metadata": {},
   "outputs": [],
   "source": [
    "class Dog(Animal):\n",
    "    def __init__(self):\n",
    "        Animal.__init__(self)\n",
    "        print('dog was created')\n",
    "        \n",
    "    def my_self(self):\n",
    "        Animal.my_self(self)\n",
    "        print('Dog')\n",
    "        \n",
    "    def bark(self):\n",
    "        print('Boow bowww')"
   ]
  },
  {
   "cell_type": "code",
   "execution_count": 152,
   "id": "1b0139f7",
   "metadata": {},
   "outputs": [
    {
     "name": "stdout",
     "output_type": "stream",
     "text": [
      "Animal was created\n",
      "dog was created\n"
     ]
    }
   ],
   "source": [
    "d = Dog()\n",
    "\n"
   ]
  },
  {
   "cell_type": "code",
   "execution_count": 153,
   "id": "e858951c",
   "metadata": {},
   "outputs": [
    {
     "name": "stdout",
     "output_type": "stream",
     "text": [
      "Animal\n",
      "Dog\n"
     ]
    }
   ],
   "source": [
    "d.my_self()"
   ]
  },
  {
   "cell_type": "code",
   "execution_count": 154,
   "id": "6b46415f",
   "metadata": {},
   "outputs": [
    {
     "name": "stdout",
     "output_type": "stream",
     "text": [
      "Boow bowww\n"
     ]
    }
   ],
   "source": [
    "d.bark()"
   ]
  },
  {
   "cell_type": "code",
   "execution_count": 155,
   "id": "d63fbf29",
   "metadata": {},
   "outputs": [
    {
     "name": "stdout",
     "output_type": "stream",
     "text": [
      "Eating\n"
     ]
    }
   ],
   "source": [
    "d.eat()"
   ]
  },
  {
   "cell_type": "markdown",
   "id": "ebe25c85",
   "metadata": {},
   "source": [
    "### Polymorphism"
   ]
  },
  {
   "cell_type": "code",
   "execution_count": 157,
   "id": "5def979b",
   "metadata": {},
   "outputs": [],
   "source": [
    "class Dog:\n",
    "    def __init__(self,name):\n",
    "        self.name = name\n",
    "        \n",
    "    def sounds(self):\n",
    "        return self.name + ' barks wooof' "
   ]
  },
  {
   "cell_type": "code",
   "execution_count": 158,
   "id": "b25bf3ba",
   "metadata": {},
   "outputs": [],
   "source": [
    "class Cat:\n",
    "    def __init__(self,name):\n",
    "        self.name = name\n",
    "        \n",
    "    def sounds(self):\n",
    "        return self.name + ' says meooow' "
   ]
  },
  {
   "cell_type": "code",
   "execution_count": 159,
   "id": "4523decf",
   "metadata": {},
   "outputs": [],
   "source": [
    "dog = Dog('Jimmy')\n",
    "\n",
    "cat = Cat('Chozha')"
   ]
  },
  {
   "cell_type": "code",
   "execution_count": 162,
   "id": "6ac7033a",
   "metadata": {},
   "outputs": [
    {
     "data": {
      "text/plain": [
       "'Chozha says meooow'"
      ]
     },
     "execution_count": 162,
     "metadata": {},
     "output_type": "execute_result"
    }
   ],
   "source": [
    "cat.sounds()"
   ]
  },
  {
   "cell_type": "code",
   "execution_count": 163,
   "id": "c6702ca6",
   "metadata": {},
   "outputs": [
    {
     "data": {
      "text/plain": [
       "'Jimmy barks wooof'"
      ]
     },
     "execution_count": 163,
     "metadata": {},
     "output_type": "execute_result"
    }
   ],
   "source": [
    "dog.sounds()"
   ]
  },
  {
   "cell_type": "markdown",
   "id": "b5392ec0",
   "metadata": {},
   "source": [
    "# Section 5: Data Analytics with NumPy"
   ]
  },
  {
   "cell_type": "markdown",
   "id": "ef2d593b",
   "metadata": {},
   "source": [
    "## NumPy Arrays"
   ]
  },
  {
   "cell_type": "code",
   "execution_count": 1,
   "id": "c2300ff9",
   "metadata": {},
   "outputs": [],
   "source": [
    "import numpy as np"
   ]
  },
  {
   "cell_type": "code",
   "execution_count": 5,
   "id": "d6d7dadd",
   "metadata": {},
   "outputs": [
    {
     "name": "stdout",
     "output_type": "stream",
     "text": [
      "[1 3 5 7 9]\n"
     ]
    }
   ],
   "source": [
    "a = np.array([1,3,5,7,9])\n",
    "\n",
    "print(a)"
   ]
  },
  {
   "cell_type": "code",
   "execution_count": 8,
   "id": "84273947",
   "metadata": {},
   "outputs": [
    {
     "name": "stdout",
     "output_type": "stream",
     "text": [
      "[[ 1  3  5  7  9]\n",
      " [ 2  4  6  8 10]]\n"
     ]
    }
   ],
   "source": [
    "b = np.array([[1,3,5,7,9], [2,4,6,8,10]])\n",
    "               \n",
    "print(b)"
   ]
  },
  {
   "cell_type": "code",
   "execution_count": 11,
   "id": "911094b7",
   "metadata": {},
   "outputs": [
    {
     "data": {
      "text/plain": [
       "array([[1, 2, 3, 4, 5]])"
      ]
     },
     "execution_count": 11,
     "metadata": {},
     "output_type": "execute_result"
    }
   ],
   "source": [
    "# min dimensions\n",
    "a = np.array([1,2,3,4,5], ndmin=2)\n",
    "\n",
    "a"
   ]
  },
  {
   "cell_type": "code",
   "execution_count": 12,
   "id": "fe3d3a1c",
   "metadata": {},
   "outputs": [
    {
     "name": "stdout",
     "output_type": "stream",
     "text": [
      "[1.+0.j 2.+0.j 3.+0.j]\n"
     ]
    }
   ],
   "source": [
    "#dtype parameter\n",
    "a = np.array([1,2,3,], dtype=complex)\n",
    "\n",
    "print(a)"
   ]
  },
  {
   "cell_type": "markdown",
   "id": "fb05cd8b",
   "metadata": {},
   "source": [
    "## NumPy Data Types"
   ]
  },
  {
   "cell_type": "code",
   "execution_count": 13,
   "id": "0c7e05f2",
   "metadata": {},
   "outputs": [
    {
     "name": "stdout",
     "output_type": "stream",
     "text": [
      "int32\n"
     ]
    }
   ],
   "source": [
    "dt = np.dtype(np.int32)\n",
    "\n",
    "print(dt)"
   ]
  },
  {
   "cell_type": "code",
   "execution_count": 23,
   "id": "04f19072",
   "metadata": {},
   "outputs": [
    {
     "name": "stdout",
     "output_type": "stream",
     "text": [
      "int64\n"
     ]
    }
   ],
   "source": [
    "#int8, int16, int32, int64 are equivalent to i1, i2, i4, i8\n",
    "\n",
    "dt = np.dtype('i8')\n",
    "\n",
    "print(dt)"
   ]
  },
  {
   "cell_type": "code",
   "execution_count": 24,
   "id": "66a399ab",
   "metadata": {},
   "outputs": [
    {
     "data": {
      "text/plain": [
       "dtype('>i4')"
      ]
     },
     "execution_count": 24,
     "metadata": {},
     "output_type": "execute_result"
    }
   ],
   "source": [
    "#using endian notation\n",
    "dt = np.dtype('>i4')\n",
    "\n",
    "dt"
   ]
  },
  {
   "cell_type": "code",
   "execution_count": 25,
   "id": "0b171136",
   "metadata": {},
   "outputs": [
    {
     "name": "stdout",
     "output_type": "stream",
     "text": [
      "[('age', 'i1')]\n"
     ]
    }
   ],
   "source": [
    "dt = np.dtype([('age', np.int8)])\n",
    "\n",
    "print(dt)"
   ]
  },
  {
   "cell_type": "code",
   "execution_count": 28,
   "id": "de7e298b",
   "metadata": {},
   "outputs": [
    {
     "name": "stdout",
     "output_type": "stream",
     "text": [
      "[(10,) (20,) (30,)]\n"
     ]
    }
   ],
   "source": [
    "#applying to ndarray\n",
    "\n",
    "dt = np.dtype([('age', np.int8)])\n",
    "a = np.array([(10,),(20,), (30,)], dtype=dt)\n",
    "print(a)"
   ]
  },
  {
   "cell_type": "markdown",
   "id": "c8ea6fe4",
   "metadata": {},
   "source": [
    "## NumPy Array Attributes"
   ]
  },
  {
   "cell_type": "code",
   "execution_count": 30,
   "id": "20cb4855",
   "metadata": {},
   "outputs": [
    {
     "name": "stdout",
     "output_type": "stream",
     "text": [
      "(2, 4)\n"
     ]
    }
   ],
   "source": [
    "#ndarray.shape\n",
    "\n",
    "a = np.array([[1,3,5,7],[2,4,6,8]])\n",
    "\n",
    "print(a.shape)  #2rows & 3 Cols"
   ]
  },
  {
   "cell_type": "code",
   "execution_count": 41,
   "id": "4f56e8b3",
   "metadata": {},
   "outputs": [
    {
     "name": "stdout",
     "output_type": "stream",
     "text": [
      "(2, 4)\n",
      " \n",
      "(4, 2)\n",
      " \n",
      "[[1 3]\n",
      " [5 7]\n",
      " [2 4]\n",
      " [6 8]]\n"
     ]
    }
   ],
   "source": [
    "#reshaping array\n",
    "a = np.array([[1,3,5,7],[2,4,6,8]])\n",
    "print(a.shape)\n",
    "print(' ')\n",
    "a.shape = (4,2)\n",
    "\n",
    "print(a.shape)\n",
    "print(' ')\n",
    "print(a)"
   ]
  },
  {
   "cell_type": "code",
   "execution_count": 47,
   "id": "5850299b",
   "metadata": {},
   "outputs": [
    {
     "name": "stdout",
     "output_type": "stream",
     "text": [
      "1\n"
     ]
    }
   ],
   "source": [
    "#ndarray.ndim\n",
    "\n",
    "a = np.arange(24)\n",
    "print(a.ndim)"
   ]
  },
  {
   "cell_type": "code",
   "execution_count": 48,
   "id": "9da443b3",
   "metadata": {},
   "outputs": [
    {
     "name": "stdout",
     "output_type": "stream",
     "text": [
      "[[[ 0  1  2]\n",
      "  [ 3  4  5]\n",
      "  [ 6  7  8]\n",
      "  [ 9 10 11]]\n",
      "\n",
      " [[12 13 14]\n",
      "  [15 16 17]\n",
      "  [18 19 20]\n",
      "  [21 22 23]]]\n"
     ]
    }
   ],
   "source": [
    "b = a.reshape(2,4,3)\n",
    "\n",
    "print(b)"
   ]
  },
  {
   "cell_type": "code",
   "execution_count": 50,
   "id": "f23685fe",
   "metadata": {},
   "outputs": [
    {
     "data": {
      "text/plain": [
       "1"
      ]
     },
     "execution_count": 50,
     "metadata": {},
     "output_type": "execute_result"
    }
   ],
   "source": [
    "#numpy.itemsize\n",
    "\n",
    "x = np.array([1,2,3,4,5], dtype=np.int8)\n",
    "\n",
    "x.itemsize"
   ]
  },
  {
   "cell_type": "markdown",
   "id": "f15e9c43",
   "metadata": {},
   "source": [
    "## NumPy Math"
   ]
  },
  {
   "cell_type": "code",
   "execution_count": 51,
   "id": "d2a8eba3",
   "metadata": {},
   "outputs": [],
   "source": [
    "import numpy as np\n",
    "import math as m"
   ]
  },
  {
   "cell_type": "code",
   "execution_count": 52,
   "id": "b074e3b4",
   "metadata": {},
   "outputs": [
    {
     "data": {
      "text/plain": [
       "9.0"
      ]
     },
     "execution_count": 52,
     "metadata": {},
     "output_type": "execute_result"
    }
   ],
   "source": [
    "m.sqrt(81)"
   ]
  },
  {
   "cell_type": "code",
   "execution_count": 53,
   "id": "68c74fc1",
   "metadata": {},
   "outputs": [
    {
     "data": {
      "text/plain": [
       "7"
      ]
     },
     "execution_count": 53,
     "metadata": {},
     "output_type": "execute_result"
    }
   ],
   "source": [
    "m.floor(7.2)"
   ]
  },
  {
   "cell_type": "code",
   "execution_count": 54,
   "id": "2a7ef21c",
   "metadata": {},
   "outputs": [
    {
     "data": {
      "text/plain": [
       "8"
      ]
     },
     "execution_count": 54,
     "metadata": {},
     "output_type": "execute_result"
    }
   ],
   "source": [
    "m.ceil(7.2)"
   ]
  },
  {
   "cell_type": "code",
   "execution_count": 57,
   "id": "ea0c7062",
   "metadata": {},
   "outputs": [
    {
     "data": {
      "text/plain": [
       "0.8509035245341184"
      ]
     },
     "execution_count": 57,
     "metadata": {},
     "output_type": "execute_result"
    }
   ],
   "source": [
    "m.sin(45)"
   ]
  },
  {
   "cell_type": "code",
   "execution_count": 60,
   "id": "110e5817",
   "metadata": {},
   "outputs": [
    {
     "data": {
      "text/plain": [
       "5.196152422706632"
      ]
     },
     "execution_count": 60,
     "metadata": {},
     "output_type": "execute_result"
    }
   ],
   "source": [
    "a = np.array([1,2,3])\n",
    "b = np.array([4,5,6])\n",
    "c = ((a-b)**2).sum()\n",
    "\n",
    "m.sqrt(c)"
   ]
  },
  {
   "cell_type": "markdown",
   "id": "1990e3fd",
   "metadata": {},
   "source": [
    "# Section 5: Data Analytics with Pandas"
   ]
  },
  {
   "cell_type": "markdown",
   "id": "5940f206",
   "metadata": {},
   "source": [
    "## Reading Data in Pandas"
   ]
  },
  {
   "cell_type": "code",
   "execution_count": null,
   "id": "fe9c9359",
   "metadata": {},
   "outputs": [],
   "source": []
  }
 ],
 "metadata": {
  "kernelspec": {
   "display_name": "Python 3 (ipykernel)",
   "language": "python",
   "name": "python3"
  },
  "language_info": {
   "codemirror_mode": {
    "name": "ipython",
    "version": 3
   },
   "file_extension": ".py",
   "mimetype": "text/x-python",
   "name": "python",
   "nbconvert_exporter": "python",
   "pygments_lexer": "ipython3",
   "version": "3.9.13"
  }
 },
 "nbformat": 4,
 "nbformat_minor": 5
}
